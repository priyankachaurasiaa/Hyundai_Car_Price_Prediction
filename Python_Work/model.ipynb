{
 "cells": [
  {
   "cell_type": "code",
   "execution_count": null,
   "id": "294f0524",
   "metadata": {},
   "outputs": [],
   "source": [
    "import pandas as pd \n",
    "import re\n",
    "import numpy"
   ]
  },
  {
   "cell_type": "code",
   "execution_count": null,
   "id": "f6c3bff2",
   "metadata": {},
   "outputs": [],
   "source": [
    "!pip install scikit-learn==1.3.0\n"
   ]
  },
  {
   "cell_type": "code",
   "execution_count": null,
   "id": "12208288",
   "metadata": {},
   "outputs": [],
   "source": []
  },
  {
   "cell_type": "code",
   "execution_count": null,
   "id": "46f55f3d",
   "metadata": {},
   "outputs": [],
   "source": [
    "df = pd.read_csv('hyundi.csv')"
   ]
  },
  {
   "cell_type": "code",
   "execution_count": null,
   "id": "148beb31",
   "metadata": {},
   "outputs": [],
   "source": [
    "df"
   ]
  },
  {
   "cell_type": "code",
   "execution_count": null,
   "id": "5e693d23",
   "metadata": {},
   "outputs": [],
   "source": [
    "df['model'] = df['model'].str.strip()"
   ]
  },
  {
   "cell_type": "code",
   "execution_count": null,
   "id": "17e3658d",
   "metadata": {},
   "outputs": [],
   "source": [
    "df.dtypes"
   ]
  },
  {
   "cell_type": "code",
   "execution_count": null,
   "id": "11843437",
   "metadata": {},
   "outputs": [],
   "source": [
    "df['price'] = df['price'].replace(92000, 0)"
   ]
  },
  {
   "cell_type": "code",
   "execution_count": null,
   "id": "4fb73024",
   "metadata": {},
   "outputs": [],
   "source": [
    "mean_price = df[df['price'] != 0]['price'].mean()\n",
    "\n",
    "df['price'] = df['price'].replace(0, mean_price)"
   ]
  },
  {
   "cell_type": "code",
   "execution_count": null,
   "id": "cb4403af",
   "metadata": {},
   "outputs": [],
   "source": [
    "rounded_mean_price = int(mean_price)\n",
    "\n",
    "df['price'] = df['price'].replace(0, rounded_mean_price)"
   ]
  },
  {
   "cell_type": "code",
   "execution_count": null,
   "id": "7ccae49b",
   "metadata": {},
   "outputs": [],
   "source": [
    "df['price'] = df['price'].astype(int)"
   ]
  },
  {
   "cell_type": "code",
   "execution_count": null,
   "id": "3de127c1",
   "metadata": {},
   "outputs": [],
   "source": [
    "\n",
    "df['mpg'] = df['mpg'].replace(256.8, 0)\n",
    "\n",
    "mean_price = df[df['mpg'] != 0]['mpg'].mean()\n",
    "\n",
    "rounded_mean_price = int(mean_price)\n",
    "\n",
    "df['mpg'] = df['mpg'].replace(0, rounded_mean_price)\n",
    "\n",
    "df['mpg'] = df['mpg'].astype(int)\n",
    "\n",
    "\n",
    "\n"
   ]
  },
  {
   "cell_type": "code",
   "execution_count": null,
   "id": "653c493c",
   "metadata": {},
   "outputs": [],
   "source": [
    "df.nsmallest(10, 'mpg')"
   ]
  },
  {
   "cell_type": "code",
   "execution_count": null,
   "id": "feb33301",
   "metadata": {},
   "outputs": [],
   "source": []
  },
  {
   "cell_type": "code",
   "execution_count": null,
   "id": "8bb0f6e8",
   "metadata": {},
   "outputs": [],
   "source": [
    " df.iloc[4247]"
   ]
  },
  {
   "cell_type": "code",
   "execution_count": null,
   "id": "8ad0b458",
   "metadata": {},
   "outputs": [],
   "source": [
    "def clean_model(model):\n",
    "    cleaned_model = re.sub(r'[^a-zA-Z0-9]', '', model)\n",
    "    return cleaned_model\n",
    "df['model'] = df['model'].apply(clean_model)\n"
   ]
  },
  {
   "cell_type": "code",
   "execution_count": null,
   "id": "a0c3fedd",
   "metadata": {},
   "outputs": [],
   "source": [
    " df.nlargest(10, '')"
   ]
  },
  {
   "cell_type": "code",
   "execution_count": null,
   "id": "5912d46d",
   "metadata": {},
   "outputs": [],
   "source": [
    "df"
   ]
  },
  {
   "cell_type": "code",
   "execution_count": null,
   "id": "a255bee6",
   "metadata": {},
   "outputs": [],
   "source": [
    "X = df.drop(columns='price')\n",
    "y=df['price']"
   ]
  },
  {
   "cell_type": "code",
   "execution_count": null,
   "id": "80bf0050",
   "metadata": {},
   "outputs": [],
   "source": [
    "from sklearn.model_selection import train_test_split\n",
    "X_train,X_test,y_train,y_test=train_test_split(X,y,test_size=0.2)"
   ]
  },
  {
   "cell_type": "code",
   "execution_count": null,
   "id": "cc898b2d",
   "metadata": {},
   "outputs": [],
   "source": [
    "from sklearn.linear_model import LinearRegression\n",
    "from sklearn.metrics import r2_score\n",
    "from sklearn.preprocessing import OneHotEncoder\n",
    "from sklearn.compose import make_column_transformer\n",
    "from sklearn.pipeline import make_pipeline\n",
    "import numpy as np"
   ]
  },
  {
   "cell_type": "code",
   "execution_count": null,
   "id": "75370253",
   "metadata": {},
   "outputs": [],
   "source": [
    "ohe = OneHotEncoder()\n",
    "ohe.fit(X[['model','transmission','fuelType']])"
   ]
  },
  {
   "cell_type": "code",
   "execution_count": null,
   "id": "d8830eb2",
   "metadata": {},
   "outputs": [],
   "source": [
    "column_trans=make_column_transformer((OneHotEncoder(categories=ohe.categories_),['model','transmission','fuelType']),\n",
    "                                    remainder='passthrough')"
   ]
  },
  {
   "cell_type": "code",
   "execution_count": null,
   "id": "39684978",
   "metadata": {},
   "outputs": [],
   "source": [
    "lr = LinearRegression()"
   ]
  },
  {
   "cell_type": "code",
   "execution_count": null,
   "id": "6665aa0e",
   "metadata": {},
   "outputs": [],
   "source": [
    "pipe = make_pipeline(column_trans,lr)"
   ]
  },
  {
   "cell_type": "code",
   "execution_count": null,
   "id": "a3a315d7",
   "metadata": {},
   "outputs": [],
   "source": [
    "pipe.fit(X_train,y_train)"
   ]
  },
  {
   "cell_type": "code",
   "execution_count": null,
   "id": "688413b5",
   "metadata": {},
   "outputs": [],
   "source": [
    "y_pred = pipe.predict(X_test)"
   ]
  },
  {
   "cell_type": "code",
   "execution_count": null,
   "id": "eacac898",
   "metadata": {},
   "outputs": [],
   "source": [
    "r2_score(y_test,y_pred)"
   ]
  },
  {
   "cell_type": "code",
   "execution_count": null,
   "id": "cad78507",
   "metadata": {},
   "outputs": [],
   "source": [
    "scores=[]\n",
    "for i in range(10):\n",
    "    X_train,X_test,y_train,y_test=train_test_split(X,y,test_size=0.1,random_state=i)\n",
    "    lr=LinearRegression()\n",
    "    pipe=make_pipeline(column_trans,lr)\n",
    "    pipe.fit(X_train,y_train)\n",
    "    y_pred=pipe.predict(X_test)\n",
    "    scores.append(r2_score(y_test,y_pred))\n",
    "    print(r2_score(y_test,y_pred),i)"
   ]
  },
  {
   "cell_type": "code",
   "execution_count": null,
   "id": "ab18e525",
   "metadata": {},
   "outputs": [],
   "source": [
    "np.argmax(scores)"
   ]
  },
  {
   "cell_type": "code",
   "execution_count": null,
   "id": "7fcda121",
   "metadata": {},
   "outputs": [],
   "source": [
    "scores[np.argmax(scores)]"
   ]
  },
  {
   "cell_type": "code",
   "execution_count": null,
   "id": "7d005514",
   "metadata": {},
   "outputs": [],
   "source": [
    "X_train,X_test,y_train,y_test=train_test_split(X,y,test_size=0.1,random_state=i)\n",
    "lr=LinearRegression()\n",
    "pipe=make_pipeline(column_trans,lr)\n",
    "pipe.fit(X_train,y_train)\n",
    "y_pred=pipe.predict(X_test)\n",
    "scores.append(r2_score(y_test,y_pred))"
   ]
  },
  {
   "cell_type": "code",
   "execution_count": null,
   "id": "67b851c5",
   "metadata": {},
   "outputs": [],
   "source": [
    "import pickle"
   ]
  },
  {
   "cell_type": "code",
   "execution_count": null,
   "id": "ba6eed0a",
   "metadata": {},
   "outputs": [],
   "source": [
    "pickle.dump(pipe,open('LinearRRegressionModell.pkl','wb'))"
   ]
  },
  {
   "cell_type": "code",
   "execution_count": null,
   "id": "504663aa",
   "metadata": {},
   "outputs": [],
   "source": [
    "pipe.predict(pd.DataFrame([[\"Tucson\",2016,'Automatic',25233,'Diesel',235,43.5,2.0]],\n",
    "                          columns = ['model','year','transmission','total_driven','fuelType','tax(£)','mpg','engineSize']))"
   ]
  },
  {
   "cell_type": "code",
   "execution_count": null,
   "id": "46d3ba62",
   "metadata": {},
   "outputs": [],
   "source": []
  },
  {
   "cell_type": "code",
   "execution_count": null,
   "id": "3b8a6484",
   "metadata": {},
   "outputs": [],
   "source": [
    "df"
   ]
  },
  {
   "cell_type": "code",
   "execution_count": null,
   "id": "0fce544b",
   "metadata": {},
   "outputs": [],
   "source": []
  }
 ],
 "metadata": {
  "kernelspec": {
   "display_name": "Python 3 (ipykernel)",
   "language": "python",
   "name": "python3"
  },
  "language_info": {
   "codemirror_mode": {
    "name": "ipython",
    "version": 3
   },
   "file_extension": ".py",
   "mimetype": "text/x-python",
   "name": "python",
   "nbconvert_exporter": "python",
   "pygments_lexer": "ipython3",
   "version": "3.9.13"
  }
 },
 "nbformat": 4,
 "nbformat_minor": 5
}
